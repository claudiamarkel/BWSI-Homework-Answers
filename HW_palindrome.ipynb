{
 "cells": [
  {
   "cell_type": "markdown",
   "metadata": {},
   "source": [
    "# Is it a palindrome?\n",
    "\n",
    "A palindrome is a word, phrase, or sequence that reads the same backward as forward, e.g., madam or nurses run.\n",
    "\n",
    "Write code that takes a string and returns `True` if that string is a palindrome. Your analysis should be case-insensitive and should disregard spaces. E.g. \"Race car\" should be considered a palindrome, despite beginning with a capitalized letter and containing a space. None of the strings will contain punctuation. Thus your function should produce the following behavior:\n",
    "\n",
    "- \"Are we not drawn onward to new era\" -> True\n",
    "- \"batman\" -> False\n",
    "\n",
    "## Required Concepts\n",
    "Basic Object Types\n",
    "- strings\n",
    "- checking equality\n",
    "\n",
    "Sequence Types\n",
    "- slicing\n",
    "\n",
    "## Examples\n",
    "```python\n",
    ">>> student_func(\"Race car\")\n",
    "True\n",
    "\n",
    ">>> student_func(\"RaCeCaR\")\n",
    "True\n",
    "\n",
    ">>> student_func(\"apple\")\n",
    "False\n",
    "```"
   ]
  },
  {
   "cell_type": "code",
   "execution_count": 1,
   "metadata": {},
   "outputs": [],
   "source": [
    "def student_func(input_str):\n",
    "    \"\"\" Given a string, determine if it is a palindrome.\n",
    "        Whitespaces, character-casing, and non-alphanumeric\n",
    "        characters are all ignored.\n",
    "\n",
    "        Parameters\n",
    "        ----------\n",
    "        s: str\n",
    "            Input string\n",
    "\n",
    "        Returns\n",
    "        -------\n",
    "        bool\n",
    "    \"\"\"\n",
    "    filtered_str = \"\".join(c.lower() for c in input_str if c.isalnum())\n",
    "    return filtered_str == filtered_str[::-1]"
   ]
  },
  {
   "cell_type": "code",
   "execution_count": 2,
   "metadata": {},
   "outputs": [
    {
     "name": "stdout",
     "output_type": "stream",
     "text": [
      "Using grader version 1.8.0\n",
      "\n",
      "============================== ALL TESTS PASSED! ===============================\n",
      "Your submission code: bw5a137af434b22dce4b6c174e3de60dfdd65f7d05ed3b68f4359e8e6f\n",
      "================================================================================\n",
      "\n"
     ]
    }
   ],
   "source": [
    "# Execute this cell to grade your work\n",
    "from bwsi_grader.python.palindrome import grader\n",
    "grader(student_func)"
   ]
  },
  {
   "cell_type": "code",
   "execution_count": null,
   "metadata": {},
   "outputs": [],
   "source": []
  }
 ],
 "metadata": {
  "kernelspec": {
   "display_name": "Python 3",
   "language": "python",
   "name": "python3"
  },
  "language_info": {
   "codemirror_mode": {
    "name": "ipython",
    "version": 3
   },
   "file_extension": ".py",
   "mimetype": "text/x-python",
   "name": "python",
   "nbconvert_exporter": "python",
   "pygments_lexer": "ipython3",
   "version": "3.7.6"
  }
 },
 "nbformat": 4,
 "nbformat_minor": 2
}

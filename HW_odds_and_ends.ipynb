{
 "cells": [
  {
   "cell_type": "markdown",
   "metadata": {},
   "source": [
    "## Odds and Ends: File Reading and Matplotlib\n",
    "\n",
    "Now that we're familiar with the essentials of the Python language we're going to practice [reading files](https://www.pythonlikeyoumeanit.com/Module5_OddsAndEnds/WorkingWithFiles.html) and [plotting with Matplotlib](https://www.pythonlikeyoumeanit.com/Module5_OddsAndEnds/Matplotlib.html). \n",
    "\n",
    "Although these topics may be considered \"odds and ends\", they are common in many day-to-day applications. You'll find that spending some time up front to become familiar with these materials will save a lot of time down the road."
   ]
  },
  {
   "cell_type": "markdown",
   "metadata": {},
   "source": [
    "## Problem 1: Reading and Parsing Files\n",
    "Let's pretend we were conducting a survey of favorite foods. Each participant is asked to list their favorite foods along with its category (e.g. dessert, snack, fruit). The food and category are separated by a colon, and each food-category pair is separated by a comma like so\n",
    "\n",
    "```food: category, food: category, food: category, ... ```\n",
    "\n",
    "The results of this survey are stored in a text file, `results.txt`, giving us a great opportunity to practice our file reading skills!\n",
    "\n",
    "Our task is to write a function called `get_most_popular_foods` that takes a file path of survey results and returns the most common response for each food category in the form of a dictionary where the keys are the food categories and the values are the most common food of that type. If there is a tie, return the food that comes first alphabetically. Note, we don't know which food categories will be given before reading the file.\n",
    "\n",
    "So, if we had data in the file `example.txt` with the contents below\n",
    "\n",
    "``` granola bars: snack, shrimp: seafood\n",
    "granola bars: snack\n",
    "tuna: seafood ```\n",
    "\n",
    "Our function would produce the following result\n",
    " ``` python\n",
    " >>> get_most_popular_foods('example.txt')\n",
    "  {'snack': 'granola bars', 'seafood': ' shrimp'}\n",
    " ```\n",
    " \n",
    " The `collections.Counter` object will be useful for this problem. Also, the function `itertools.chain` may come in handy.\n",
    " \n",
    "For reference, there is a short example input under `resources/example-survey.txt`. On this input, your function should produce the response as follows\n",
    " ``` python\n",
    ">>> get_most_popular_foods('resources/example-survey.txt')\n",
    " {'dessert': 'cake', 'vegetable': 'carrots', 'fruit': 'peaches'}\n",
    "```"
   ]
  },
  {
   "cell_type": "code",
   "execution_count": 1,
   "metadata": {},
   "outputs": [],
   "source": [
    "from pathlib import Path\n",
    "from collections import Counter\n",
    "from collections import OrderedDict\n",
    "\n",
    "root = Path(\".\") \n",
    "def get_most_popular_foods(file_path):\n",
    "    \"\"\" Read in survey and determine the most common food of each type.\n",
    "    \n",
    "    Parameters\n",
    "    ----------\n",
    "    file_path : str\n",
    "        Path to text file containing favorite food survey responses.\n",
    "        \n",
    "    Returns\n",
    "    -------\n",
    "    Dict[str, str]\n",
    "        Dictionary with the key being food type and value being food.\n",
    "    \"\"\"\n",
    "    pathToFile = root / file_path      \n",
    "    with pathToFile.open(mode='r') as openFile:\n",
    "        entry = [(line if (', ' not in line) else line.split(', ')) for line in openFile]\n",
    "    \n",
    "    normalList = [] #holds all entries separated into a list\n",
    "    for line in entry:\n",
    "        if(type(line) == list):\n",
    "            normalList = normalList + line\n",
    "        else:\n",
    "            normalList.append(line)\n",
    "\n",
    "    formatted = [] #removes spaces and the \\n\n",
    "    for element in normalList:\n",
    "        removed = element.replace('\\n','')\n",
    "        #removed = removed.replace(' ','')\n",
    "        formatted.append(removed)\n",
    "    \n",
    "\n",
    "    \n",
    " \n",
    "    categories = []\n",
    "    foods = []\n",
    "    for element in formatted:\n",
    "        food, category  = element.split(': ')\n",
    "        categories.append(category)\n",
    "        foods.append(food)\n",
    "    togetherList = list(zip(categories, foods))\n",
    "    #uniqueCategories = set(categories) #problem? TODO\n",
    "    uniqueCategories = OrderedDict.fromkeys(categories)\n",
    "    blankLists = [[] for _ in range(len(uniqueCategories))]\n",
    "    dictSorted = OrderedDict(zip(uniqueCategories,blankLists))#used for sorting foods into list values for category key\n",
    "\n",
    "    \n",
    "    for [category, food] in togetherList: #sorts foods into their category\n",
    "        dictSorted[category].append(food)\n",
    "\n",
    "    dictSortedAlphabet = dictSorted.copy() #none of that same memory bs\n",
    "    for key in dictSortedAlphabet:\n",
    "        dictSortedAlphabet[key] = sorted(dictSorted[key])\n",
    "    \n",
    "    finalDict = dict.fromkeys(uniqueCategories) #problem?\n",
    "    \n",
    "    for category in finalDict:\n",
    "        food, count = Counter(dictSortedAlphabet[category]).most_common(1)[0]\n",
    "        finalDict[category] = food\n",
    "    \n",
    "    #return dictSorted\n",
    "    #return togetherList\n",
    "    return finalDict\n",
    "    #pass"
   ]
  },
  {
   "cell_type": "code",
   "execution_count": 2,
   "metadata": {},
   "outputs": [
    {
     "name": "stdout",
     "output_type": "stream",
     "text": [
      "Using grader version 1.8.0\n",
      "\n",
      "============================== ALL TESTS PASSED! ===============================\n",
      "Your submission code: bwb8b7694e6fad3035e4331f2d41fa9477ec007cc11e40a8338b9390b5\n",
      "================================================================================\n",
      "\n"
     ]
    }
   ],
   "source": [
    "from bwsi_grader.python.odds_and_ends import grade_file_parser\n",
    "grade_file_parser(get_most_popular_foods)"
   ]
  },
  {
   "cell_type": "markdown",
   "metadata": {},
   "source": [
    "## Problem 2: Plotting an Image with Matplotlib\n",
    "\n",
    "We have an image in the file `resources/mystery-img.npy`. Read and plot the image, then answer the following for Question 2 of the homework:\n",
    "\n",
    "__What is in this image?__"
   ]
  }
 ],
 "metadata": {
  "kernelspec": {
   "display_name": "Python 3",
   "language": "python",
   "name": "python3"
  },
  "language_info": {
   "codemirror_mode": {
    "name": "ipython",
    "version": 3
   },
   "file_extension": ".py",
   "mimetype": "text/x-python",
   "name": "python",
   "nbconvert_exporter": "python",
   "pygments_lexer": "ipython3",
   "version": "3.7.6"
  }
 },
 "nbformat": 4,
 "nbformat_minor": 2
}

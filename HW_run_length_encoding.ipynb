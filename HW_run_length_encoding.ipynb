{
 "cells": [
  {
   "cell_type": "markdown",
   "metadata": {},
   "source": [
    "# Run-Length Encoding\n",
    "Run-length encoding is a simple method for compressing data that contains long sequences of repeated characters. \n",
    "\n",
    "In this compression algorithm:\n",
    "1. A standalone character will be unchanged. E.g `\"a\"` $\\rightarrow$ `[\"a\"]`. \n",
    "2. A run of a character, `c`, repeated `N` times will be compressed to `[\"c\", \"c\", N]`. E.g. `\"bbbb\"` $\\rightarrow$ `['b', 'b', 4]`. \n",
    "\n",
    "These two rules are all that you need to perform run-length encoding.\n",
    "\n",
    "Let's look at a few examples of run-length-encoding:\n",
    "\n",
    "- `\"abcd\"` $\\rightarrow$ `['a', 'b', 'c', 'd']`\n",
    "- `\"abbbba\"` $\\rightarrow$ `['a', 'b', 'b', 4, 'a']`\n",
    "- `\"aaaabbcccd\"` $\\rightarrow$ `['a', 'a', 4, 'b', 'b', 2, 'c', 'c', 3, 'd']`\n",
    "- `\"\"` $\\rightarrow$ `[]`\n",
    "- `\"1\"` $\\rightarrow$ `[\"1\"]`\n",
    "\n",
    "The decompression algorithm, run-length decoding, simply reverses this process:\n",
    "\n",
    "- `['q', 'a', 'a', 4, 'b', 'b', 2, 'c', 'c', 3, 'd']` $\\rightarrow$ `'qaaaabbcccd'`\n",
    "\n",
    "Here, you will implement a run-length encoding and decoding algorithms. As indicated above, the run-length encoding algorithm should be able to accept a string and return a list with the appropriate string/integer entries, according to the encoding. The decoding algorithm need be able to accept a list with an encoded sequence, and return the decoded string.\n",
    "\n",
    "You should be able to test both of your algorithms by feeding them into one another:\n",
    "```python\n",
    ">>> decoder(encoder(\"Wooooow!!!!! I'm totally getting compressed\"))\n",
    "\"Wooooow!!!!! I'm totally getting compressed\"\n",
    "```"
   ]
  },
  {
   "cell_type": "code",
   "execution_count": 5,
   "metadata": {},
   "outputs": [],
   "source": [
    "# make sure to execute this cell so that your function is defined\n",
    "# you must re-run this cell any time you make a change to this function\n",
    "\n",
    "def run_length_encoder(in_string):\n",
    "    encoded_message = []\n",
    "    i = 0\n",
    "    \n",
    "    while (i <= len(in_string)-1):\n",
    "        count = 1\n",
    "        ch = in_string[i]\n",
    "        j = i\n",
    "        while (j < len(in_string)-1):\n",
    "            if (in_string[j] == in_string[j+1]):\n",
    "                count = count+1\n",
    "                j = j+1\n",
    "            else:\n",
    "                break\n",
    "        encoded_message.append(ch)\n",
    "        if(count>1):\n",
    "            encoded_message.append(ch)\n",
    "            encoded_message.append(count)\n",
    "        i = j+1\n",
    "    return encoded_message"
   ]
  },
  {
   "cell_type": "code",
   "execution_count": 6,
   "metadata": {},
   "outputs": [
    {
     "name": "stdout",
     "output_type": "stream",
     "text": [
      "\n",
      "============================== ALL TESTS PASSED! ===============================\n",
      "Your submission code: bw42a5d76dd6ae8182436ab2f9860e8c0feb30dc65224efba85b04727c\n",
      "================================================================================\n",
      "\n"
     ]
    }
   ],
   "source": [
    "# Execute this cell to grade your work\n",
    "from bwsi_grader.python.run_length_encoding import encoder_grader\n",
    "encoder_grader(run_length_encoder)"
   ]
  },
  {
   "cell_type": "code",
   "execution_count": 3,
   "metadata": {},
   "outputs": [],
   "source": [
    "# make sure to execute this cell so that your function is defined\n",
    "# you must re-run this cell any time you make a change to this function\n",
    "\n",
    "def run_length_decoder(in_list):\n",
    "    decoded_message = \"\"\n",
    "    i = 0\n",
    "    \n",
    "    while (i <= len(in_list)-1):\n",
    "        count = 1\n",
    "        ch = in_list[i]\n",
    "        j = i\n",
    "        while (j < len(in_list)-1):\n",
    "            if (in_list[j] == in_list[j+1]):\n",
    "                count = in_list[j+2]\n",
    "                j = j+2\n",
    "            else:\n",
    "                break\n",
    "        decoded_message += str(ch)*int(count)\n",
    "        i = j+1\n",
    "        \n",
    "    return decoded_message"
   ]
  },
  {
   "cell_type": "code",
   "execution_count": 4,
   "metadata": {},
   "outputs": [
    {
     "name": "stdout",
     "output_type": "stream",
     "text": [
      "\n",
      "============================== ALL TESTS PASSED! ===============================\n",
      "Your submission code: bwdd9e7c7dc76cd758ee821609e7e7ba4b123ff6786f39ab306e3939e7\n",
      "================================================================================\n",
      "\n"
     ]
    }
   ],
   "source": [
    "# Execute this cell to grade your work\n",
    "from bwsi_grader.python.run_length_encoding import decoder_grader\n",
    "decoder_grader(run_length_decoder)"
   ]
  },
  {
   "cell_type": "code",
   "execution_count": null,
   "metadata": {},
   "outputs": [],
   "source": []
  }
 ],
 "metadata": {
  "kernelspec": {
   "display_name": "Python 3",
   "language": "python",
   "name": "python3"
  },
  "language_info": {
   "codemirror_mode": {
    "name": "ipython",
    "version": 3
   },
   "file_extension": ".py",
   "mimetype": "text/x-python",
   "name": "python",
   "nbconvert_exporter": "python",
   "pygments_lexer": "ipython3",
   "version": "3.7.6"
  }
 },
 "nbformat": 4,
 "nbformat_minor": 2
}
